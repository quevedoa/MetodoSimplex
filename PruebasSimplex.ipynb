{
 "cells": [
  {
   "cell_type": "code",
   "execution_count": 2,
   "id": "civilian-jewel",
   "metadata": {},
   "outputs": [
    {
     "name": "stdout",
     "output_type": "stream",
     "text": [
      "None\n"
     ]
    }
   ],
   "source": [
    "import numpy as np\n",
    "\n",
    "x = np.array([None])\n",
    "print(x[0])"
   ]
  },
  {
   "cell_type": "code",
   "execution_count": 13,
   "id": "senior-wales",
   "metadata": {
    "scrolled": true
   },
   "outputs": [
    {
     "name": "stdout",
     "output_type": "stream",
     "text": [
      "[[1.]\n",
      " [1.]]\n"
     ]
    },
    {
     "ename": "NameError",
     "evalue": "name 'mat' is not defined",
     "output_type": "error",
     "traceback": [
      "\u001b[0;31m---------------------------------------------------------------------------\u001b[0m",
      "\u001b[0;31mNameError\u001b[0m                                 Traceback (most recent call last)",
      "\u001b[0;32m<ipython-input-13-36a9b462fdea>\u001b[0m in \u001b[0;36m<module>\u001b[0;34m\u001b[0m\n\u001b[1;32m     27\u001b[0m \u001b[0mprint\u001b[0m\u001b[0;34m(\u001b[0m\u001b[0marr1\u001b[0m\u001b[0;34m[\u001b[0m\u001b[0;36m0\u001b[0m\u001b[0;34m:\u001b[0m\u001b[0;36m2\u001b[0m\u001b[0;34m]\u001b[0m\u001b[0;34m)\u001b[0m\u001b[0;34m\u001b[0m\u001b[0;34m\u001b[0m\u001b[0m\n\u001b[1;32m     28\u001b[0m \u001b[0;31m#mat2 = np.vstack((mat[0:2], arr1, mat[2:,:])) # Insertar un renglon\u001b[0m\u001b[0;34m\u001b[0m\u001b[0;34m\u001b[0m\u001b[0;34m\u001b[0m\u001b[0m\n\u001b[0;32m---> 29\u001b[0;31m \u001b[0mmat2\u001b[0m \u001b[0;34m=\u001b[0m \u001b[0mnp\u001b[0m\u001b[0;34m.\u001b[0m\u001b[0mhstack\u001b[0m\u001b[0;34m(\u001b[0m\u001b[0;34m(\u001b[0m\u001b[0mmat\u001b[0m\u001b[0;34m[\u001b[0m\u001b[0;34m:\u001b[0m\u001b[0;34m,\u001b[0m\u001b[0;36m0\u001b[0m\u001b[0;34m:\u001b[0m\u001b[0;36m2\u001b[0m\u001b[0;34m]\u001b[0m\u001b[0;34m,\u001b[0m \u001b[0marr1\u001b[0m\u001b[0;34m,\u001b[0m \u001b[0mmat\u001b[0m\u001b[0;34m[\u001b[0m\u001b[0;34m:\u001b[0m\u001b[0;34m,\u001b[0m\u001b[0;36m2\u001b[0m\u001b[0;34m:\u001b[0m\u001b[0;34m]\u001b[0m\u001b[0;34m)\u001b[0m\u001b[0;34m)\u001b[0m \u001b[0;31m# Insertar una columna\u001b[0m\u001b[0;34m\u001b[0m\u001b[0;34m\u001b[0m\u001b[0m\n\u001b[0m\u001b[1;32m     30\u001b[0m \u001b[0mprint\u001b[0m\u001b[0;34m(\u001b[0m\u001b[0mmat\u001b[0m\u001b[0;34m)\u001b[0m\u001b[0;34m\u001b[0m\u001b[0;34m\u001b[0m\u001b[0m\n\u001b[1;32m     31\u001b[0m \u001b[0mprint\u001b[0m\u001b[0;34m(\u001b[0m\u001b[0;34m)\u001b[0m\u001b[0;34m\u001b[0m\u001b[0;34m\u001b[0m\u001b[0m\n",
      "\u001b[0;31mNameError\u001b[0m: name 'mat' is not defined"
     ]
    }
   ],
   "source": [
    "numVar = 5\n",
    "\n",
    "# -- Entrada: Una matriz simplex de las restricciones\n",
    "# Si es max entonces estandarizamos y multiplicamos el renglon de costos por -1 y agregamos a la matrix simplex\n",
    "# Agregamos variables de holgura y excedente\n",
    "# Checar si contiene la identidad, hay soluciones degeneradas, checar si esta acotado o no\n",
    "\n",
    "# Para renglon de costos\n",
    "costos = [5,4,1,9,-2]\n",
    "renglonCostos = np.zeros(numVar+1)\n",
    "for i in range(numVar):\n",
    "    renglonCostos[i] = costos[i]\n",
    "\n",
    "\n",
    "# Para restricciones\n",
    "rest1 = [4,0,0,3,1,10,2] # ultimo indice de 0 a 2 representando <=, >= y =\n",
    "renglonRest1 = np.zeros(numVar+1)\n",
    "for i in range(numVar+1):\n",
    "    renglonRest1[i] = rest1[i]\n",
    "    \n",
    "\n",
    "\n",
    "\n",
    "#matrix = np.vstack((arr2, arr3, arr4))\n",
    "#arr1 = np.array([[9,9,9]]).T\n",
    "arr1 = np.array([np.ones(3)]).T\n",
    "print(arr1[0:2])\n",
    "#mat2 = np.vstack((mat[0:2], arr1, mat[2:,:])) # Insertar un renglon\n",
    "mat2 = np.hstack((mat[:,0:2], arr1, mat[:,2:])) # Insertar una columna\n",
    "print(mat)\n",
    "print()\n",
    "print(mat2)\n",
    "print()\n",
    "\n",
    "#print((mat[1,:]/mat[2,:])[2] == float('inf'))"
   ]
  },
  {
   "cell_type": "code",
   "execution_count": null,
   "id": "renewable-electronics",
   "metadata": {},
   "outputs": [
    {
     "name": "stdout",
     "output_type": "stream",
     "text": [
      "-1\n",
      "(array([2]),)\n",
      "2\n"
     ]
    }
   ],
   "source": [
    "arrMin = np.array([1,1,3,4,-1])\n",
    "\n",
    "print(arrMin.min())\n",
    "ind = np.where(arrMin == 3)\n",
    "print(ind)\n",
    "\n",
    "print(ind[0][0])"
   ]
  },
  {
   "cell_type": "code",
   "execution_count": null,
   "id": "guilty-hunter",
   "metadata": {},
   "outputs": [],
   "source": [
    "def checkNegativos(arr: np.ndarray):\n",
    "    # Regresa -1 si ninguno es negativo, si no regresa el indice del primer elemento negativo\n",
    "    ind = 0\n",
    "    for e in arr:\n",
    "        if e < 0:\n",
    "            return ind\n",
    "        ind += 1\n",
    "    return -1\n",
    "\n",
    "def checkRenglonPivote(y: np.ndarray, b: np.ndarray):\n",
    "    arrLength = b.size\n",
    "    epsilon = np.ones(arrLength) # Crea un vector donde guardaremos todas las epsilon=bi/yi\n",
    "    for i in range(arrLength):\n",
    "        yi, bi = y[i], b[i]\n",
    "        if yi == 0 or bi < 0 or yi < 0: \n",
    "            # Si yi = 0, o bi,yi < 0 entonces invalidamos esos cocientes guardando -infinito en esa entrada del\n",
    "            # vector epsilon\n",
    "            epsilon[i] = float('inf')\n",
    "        else:\n",
    "            # Si bi y yi son validos guardamos su cociente\n",
    "            epsilon[i] = bi/yi\n",
    "            \n",
    "    minEpsilon = epsilon.min() # Encontramos el mínimo de epsilon\n",
    "    if minEpsilon == float('inf'):\n",
    "        raise Exception(\"No existe epsilon valida\")\n",
    "    else:\n",
    "        indiceMinEpsilon = np.where(epsilon == minEpsilon)[0][0] # Si existen dos epsilons minimos iguales agarramos el primero (Regla de Bland)\n",
    "    \n",
    "    return indiceMinEpsilon\n",
    "\n",
    "def simplex(tabla: np.ndarray):\n",
    "    # Entra una tabla simplex estandar inicial y sale la tabla simplex final\n",
    "    costos = tabla[-1,:]\n",
    "    numReng = tabla.shape[0]\n",
    "    numCol = tabla.shape[1]\n",
    "    \n",
    "    print('--------------------------------------------------------------\\n')\n",
    "    \n",
    "    while checkNegativos(costos) != -1:\n",
    "        # Vemos que el indice de la variable que va a entrar (Siempre entra el más a la izquierda Regla de Bland)\n",
    "        indVarEntrada = checkNegativos(costos)\n",
    "        # Determinamos el indice del renglon que va a ser pivote\n",
    "        indRengPivote = checkRenglonPivote(tabla[:,indVarEntrada], tabla[:,-1])\n",
    "        \n",
    "        print(\"Entra la variable: \", indVarEntrada+1)\n",
    "        print(\"Pivoteamos el renglón: \", indRengPivote+1)\n",
    "        print(tabla)\n",
    "        \n",
    "        # Hacemos ese primer 1 pivote\n",
    "        tabla[indRengPivote,:] = tabla[indRengPivote,:]/tabla[indRengPivote,indVarEntrada]\n",
    "        \n",
    "        # La suma de renglones\n",
    "        for i in range(numReng):\n",
    "            if i != indRengPivote:\n",
    "                tabla[i,:] = tabla[i,:] - (tabla[i,indVarEntrada])*tabla[indRengPivote, :]\n",
    "    \n",
    "        print('--------------------------------------------------------------\\n')\n",
    "\n",
    "    print(\"Tabla Final\")\n",
    "    print(tabla)\n",
    "        \n",
    "    "
   ]
  },
  {
   "cell_type": "code",
   "execution_count": null,
   "id": "instrumental-western",
   "metadata": {},
   "outputs": [
    {
     "name": "stdout",
     "output_type": "stream",
     "text": [
      "--------------------------------------------------------------\n",
      "\n",
      "Entra la variable:  2\n",
      "Pivoteamos el renglón:  1\n",
      "[[  0.   5.  50.   1.   1.   0.  10.]\n",
      " [  1. -15.   2.   0.   0.   0.   2.]\n",
      " [  0.   1.   1.   0.   1.   1.   6.]\n",
      " [  0. -10.  -2.   0.   1.   0.  -6.]]\n",
      "--------------------------------------------------------------\n",
      "\n",
      "Tabla Final\n",
      "[[  0.    1.   10.    0.2   0.2   0.    2. ]\n",
      " [  1.    0.  152.    3.    3.    0.   32. ]\n",
      " [  0.    0.   -9.   -0.2   0.8   1.    4. ]\n",
      " [  0.    0.   98.    2.    3.    0.   14. ]]\n"
     ]
    }
   ],
   "source": [
    "mat = np.array([[0,5,50,1,1,0,10],[1,-15,2,0,0,0,2],[0,1,1,0,1,1,6],[0,-10,-2,0,1,0,-6]]).astype(float)\n",
    "simplex(mat)"
   ]
  },
  {
   "cell_type": "code",
   "execution_count": null,
   "id": "united-district",
   "metadata": {},
   "outputs": [],
   "source": [
    "def estandarizar(restricciones: np.ndarray, costos: np.ndarray, isMin: bool, nomVariables: list = []):\n",
    "    costos = np.array([np.insert(costos, -1, 0)])\n",
    "    restricciones = np.vstack((restricciones, costos))\n",
    "    numRest = restricciones.shape[0]\n",
    "    \n",
    "    numVarsH = 1\n",
    "    numVarsE = 1\n",
    "    \n",
    "    if not isMin:\n",
    "        costos = -1*costos\n",
    "        \n",
    "    # La idea es que cuando pasemos las restricciones sean arreglos donde los primeros n elementos\n",
    "    # sean las n variables de esa restricción, el elemento (n+1) sea la (b) de esa restricción y\n",
    "    # que el ultimo elemento sea -1 si la restricción es <=, 1 si es >= y 0 si es =\n",
    "    \n",
    "    for i in range(numRest):\n",
    "        op = restricciones[i,-1]\n",
    "        if op == -1: # <=\n",
    "            # Agregar variable de holgura\n",
    "            colH = np.zeros(numRest) \n",
    "            colH[i] = 1 # Creamos columna de ceros menos un 1 en el current renglon \n",
    "            colH = np.array([colH]).T # Transponemos para hacer arreglo en columna\n",
    "            restricciones = np.hstack((restricciones[:,0:-2], colH, restricciones[:,-2:]))\n",
    "            nomVariables.append(\"h\"+str(numVarsH))\n",
    "            numVarsH += 1\n",
    "        elif op == 1: # >=\n",
    "            # Agregar variable de excedente\n",
    "            colE = np.zeros(numRest) \n",
    "            colE[i] = -1 # Creamos columna de ceros menos un 1 en el current renglon \n",
    "            colE = np.array([colE]).T # Transponemos para hacer arreglo en columna\n",
    "            restricciones = np.hstack((restricciones[:,0:-2], colE, restricciones[:,-2:]))\n",
    "            nomVariables.append(\"e\"+str(numVarsE))\n",
    "            numVarsE += 1\n",
    "        elif op != 0: # =\n",
    "            print(\"ERROR: En creación de variables de holgura y/o excedente\")\n",
    "    \n",
    "    tablaSimplexStd = restricciones[:,0:-1] # Quitamos la ultima columna que solo representaba las operaciones\n",
    "    return tablaSimplexStd, nomVariables\n",
    "    \n",
    "            \n",
    "    "
   ]
  },
  {
   "cell_type": "code",
   "execution_count": 15,
   "id": "cellular-alabama",
   "metadata": {},
   "outputs": [
    {
     "name": "stdout",
     "output_type": "stream",
     "text": [
      "[[ 1  2 10 -1]\n",
      " [ 1  2  5 -1]]\n"
     ]
    }
   ],
   "source": [
    "matNEst = np.array([[1,2,10,-1],[1,2,5,-1],[1,-1,2,-1]])\n",
    "costNEst = np.array([[2,-1,0]])\n",
    "nomVar = [\"x1\",\"x2\"]\n",
    "\n",
    "#print(costNEst)\n",
    "# print(estandarizar(matNEst, costNEst, False, nomVar)[0])\n",
    "print(matNEst[0:-1,:])"
   ]
  },
  {
   "cell_type": "code",
   "execution_count": 56,
   "metadata": {},
   "outputs": [],
   "source": [
    "import re\n",
    "def parseFuncionObjetivo(funcObj: str):\n",
    "    funcObj = funcObj.replace(\" \", \"\").replace(\"-x\",\"-1x\").replace(\"+\",\"\")\n",
    "    pattern = re.compile(r'x\\d')\n",
    "    funcArr = pattern.split(funcObj)[:-1]\n",
    "\n",
    "    rengCostos = np.zeros(len(funcArr))\n",
    "    for i in range(len(funcArr)):\n",
    "        rengCostos[i] = float(funcArr[i])\n",
    "    \n",
    "    return funcArr"
   ]
  },
  {
   "cell_type": "code",
   "execution_count": 58,
   "metadata": {},
   "outputs": [
    {
     "name": "stdout",
     "output_type": "stream",
     "text": [
      "['3', '6', '-1', '2']\n"
     ]
    }
   ],
   "source": [
    "funcObj = \"3x1 +  6x2 - x3 + 2x4\"\n",
    "print(parseFuncionObjetivo(funcObj))"
   ]
  },
  {
   "cell_type": "code",
   "execution_count": 9,
   "metadata": {},
   "outputs": [
    {
     "name": "stdout",
     "output_type": "stream",
     "text": [
      "7\n",
      "Hello1\n"
     ]
    }
   ],
   "source": [
    "ar = np.array([np.zeros(7)])\n",
    "print(ar.size)\n",
    "\n",
    "print(\"Hello\" + str(1))"
   ]
  },
  {
   "cell_type": "code",
   "execution_count": null,
   "metadata": {},
   "outputs": [],
   "source": []
  }
 ],
 "metadata": {
  "interpreter": {
   "hash": "752579dbebe7f4dfe7c1aa72eac13e23fc88be2cc1ea7ab14e1f8d69b2d97d12"
  },
  "kernelspec": {
   "display_name": "Python 3.8.5 64-bit",
   "name": "python3"
  },
  "language_info": {
   "codemirror_mode": {
    "name": "ipython",
    "version": 3
   },
   "file_extension": ".py",
   "mimetype": "text/x-python",
   "name": "python",
   "nbconvert_exporter": "python",
   "pygments_lexer": "ipython3",
   "version": "3.8.5"
  }
 },
 "nbformat": 4,
 "nbformat_minor": 5
}
